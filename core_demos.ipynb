{
 "cells": [
  {
   "cell_type": "code",
   "execution_count": 6,
   "metadata": {},
   "outputs": [
    {
     "name": "stdout",
     "output_type": "stream",
     "text": [
      "Defaulting to user installation because normal site-packages is not writeable\n",
      "Requirement already satisfied: anthropic in /home/jacob/.local/lib/python3.10/site-packages (0.25.7)\n",
      "Requirement already satisfied: anyio<5,>=3.5.0 in /home/jacob/.local/lib/python3.10/site-packages (from anthropic) (4.3.0)\n",
      "Requirement already satisfied: distro<2,>=1.7.0 in /usr/lib/python3/dist-packages (from anthropic) (1.7.0)\n",
      "Requirement already satisfied: sniffio in /home/jacob/.local/lib/python3.10/site-packages (from anthropic) (1.3.1)\n",
      "Requirement already satisfied: httpx<1,>=0.23.0 in /home/jacob/.local/lib/python3.10/site-packages (from anthropic) (0.27.0)\n",
      "Requirement already satisfied: tokenizers>=0.13.0 in /home/jacob/.local/lib/python3.10/site-packages (from anthropic) (0.19.1)\n",
      "Requirement already satisfied: pydantic<3,>=1.9.0 in /home/jacob/.local/lib/python3.10/site-packages (from anthropic) (2.7.1)\n",
      "Requirement already satisfied: typing-extensions<5,>=4.7 in /home/jacob/.local/lib/python3.10/site-packages (from anthropic) (4.11.0)\n",
      "Requirement already satisfied: exceptiongroup>=1.0.2 in /home/jacob/.local/lib/python3.10/site-packages (from anyio<5,>=3.5.0->anthropic) (1.2.1)\n",
      "Requirement already satisfied: idna>=2.8 in /usr/lib/python3/dist-packages (from anyio<5,>=3.5.0->anthropic) (3.3)\n",
      "Requirement already satisfied: certifi in /usr/lib/python3/dist-packages (from httpx<1,>=0.23.0->anthropic) (2020.6.20)\n",
      "Requirement already satisfied: httpcore==1.* in /home/jacob/.local/lib/python3.10/site-packages (from httpx<1,>=0.23.0->anthropic) (1.0.5)\n",
      "Requirement already satisfied: h11<0.15,>=0.13 in /home/jacob/.local/lib/python3.10/site-packages (from httpcore==1.*->httpx<1,>=0.23.0->anthropic) (0.14.0)\n",
      "Requirement already satisfied: annotated-types>=0.4.0 in /home/jacob/.local/lib/python3.10/site-packages (from pydantic<3,>=1.9.0->anthropic) (0.6.0)\n",
      "Requirement already satisfied: pydantic-core==2.18.2 in /home/jacob/.local/lib/python3.10/site-packages (from pydantic<3,>=1.9.0->anthropic) (2.18.2)\n",
      "Requirement already satisfied: huggingface-hub<1.0,>=0.16.4 in /home/jacob/.local/lib/python3.10/site-packages (from tokenizers>=0.13.0->anthropic) (0.23.0)\n",
      "Requirement already satisfied: tqdm>=4.42.1 in /home/jacob/.local/lib/python3.10/site-packages (from huggingface-hub<1.0,>=0.16.4->tokenizers>=0.13.0->anthropic) (4.66.4)\n",
      "Requirement already satisfied: requests in /usr/lib/python3/dist-packages (from huggingface-hub<1.0,>=0.16.4->tokenizers>=0.13.0->anthropic) (2.25.1)\n",
      "Requirement already satisfied: filelock in /usr/lib/python3/dist-packages (from huggingface-hub<1.0,>=0.16.4->tokenizers>=0.13.0->anthropic) (3.6.0)\n",
      "Requirement already satisfied: pyyaml>=5.1 in /usr/lib/python3/dist-packages (from huggingface-hub<1.0,>=0.16.4->tokenizers>=0.13.0->anthropic) (5.4.1)\n",
      "Requirement already satisfied: packaging>=20.9 in /usr/lib/python3/dist-packages (from huggingface-hub<1.0,>=0.16.4->tokenizers>=0.13.0->anthropic) (21.3)\n",
      "Requirement already satisfied: fsspec>=2023.5.0 in /home/jacob/.local/lib/python3.10/site-packages (from huggingface-hub<1.0,>=0.16.4->tokenizers>=0.13.0->anthropic) (2024.3.1)\n",
      "Defaulting to user installation because normal site-packages is not writeable\n",
      "Requirement already satisfied: google in /home/jacob/.local/lib/python3.10/site-packages (3.0.0)\n",
      "Requirement already satisfied: beautifulsoup4 in /usr/lib/python3/dist-packages (from google) (4.10.0)\n",
      "Defaulting to user installation because normal site-packages is not writeable\n",
      "Requirement already satisfied: beautifulsoup4 in /usr/lib/python3/dist-packages (4.10.0)\n",
      "Requirement already satisfied: requests in /usr/lib/python3/dist-packages (2.25.1)\n"
     ]
    }
   ],
   "source": [
    "!pip install anthropic\n",
    "!pip install google\n",
    "!pip install beautifulsoup4 requests \n",
    "\n"
   ]
  },
  {
   "cell_type": "code",
   "execution_count": 3,
   "metadata": {},
   "outputs": [],
   "source": [
    "class_teachers = {\n",
    "\"CSC 849 Search Engines\": [],\n",
    "\"CSC 865 Artificial Intelligence\": [(\"Lothar Narins\", \"\"), (\"Tyler Devlin\", \"\"), (\"Akila de Silva\", \"\")],\n",
    "\"CSC 869 Data Mining\": [(\"Hui Yang\", \"\")],\n",
    "\"CSC 872 Pattern Analysis and Machine Intelligence\": [(\"Kazunori Okada\", \"\")],\n",
    "# \"CSC 810 Analysis of Algorithms II\": [(\"Timothy Sun\", \"\")],\n",
    "# \"CSC 871 Deep Learning\": [(\"Robert Mateescu\", \"\")],\n",
    "# \"CSC 876 Soft Computing and Decision Support Systems\": [(\"Jozo Dujmovic\", \"\")],\n",
    "# \"CSC 848 Software Engineering\": [(\"Isabel Hyo Jung Song\", \"\"), (\"Henry Villar\", \"\"), (\"Dragutin Petkovic\", \"\"), (\"Jose Ortiz Costa\", \"\")],\n",
    "# \"CSC 864 Multimedia Systems\": [],\n",
    "# \"CSC 874 Topics in Big Data Analysis\": [],\n",
    "# \"CSC 875\": [],\n",
    "# \"CSC 878 Big Data Platforms and Systems\": [],\n",
    "# \"MATH 440 Probability and Statistics I\": [],\n",
    "# \"MATH 448 Introduction to Statistical Learning and Data Mining\": [],\n",
    "# \"CSC 805 Data Visualization: Concepts, Tools, Techniques, and Paradigms\": [(\"Shahrukh Humayoun\", \"\")],\n",
    "# \"CSC 820 Natural Language Technologies\": [(\"Anagha Kulkarni\", \"\")],\n",
    "# \"CSC 821 Biomedical Imaging and Analysis\": [(\"Kazunori Okada\", \"\")],\n",
    "# \"CSC 842 Human-Computer Interaction\": [(\"Shahrukh Humayoun\", \"\")],\n",
    "# \"CSC 847 Cloud and Distributed Computing: Concepts and Applications\": [],\n",
    "# \"CSC 852 Introduction to Security and Data Privacy\": [],\n",
    "# \"CSC 857 Bioinformatics Computing\": [],\n",
    "# \"CSC 859 AI Explainability and Ethics\": [(\"Dragutin Petkovic\", \"\")],\n",
    "# \"CSC 890 Graduate Seminar\": [(\"Isabel Hyo Jung Song\", \"\")],\n",
    "# \"CSC 897 Research\": [(\"Shahrukh Humayoun\", \"\")],\n",
    "# \"CSC 899 Independent Study\": [(\"Qun Wang\", \"\")],\n",
    "# \"ISYS 850 Seminar in Business Intelligence\": [],\n",
    "# \"MATH 741 Probability and Statistics II\": [],\n",
    "# \"MGMT 850 Ethics and Compliance in Business\": [],\n",
    "# \"MKTG 886 Seminar in Marketing Analytics\": [],\n",
    "# \"CSC 893 Supervised Industrial Research\": [(\"Shahrukh Humayoun\", \"\")],\n",
    "# \"CSC 895 Applied Research Project\": [(\"Qun Wang\", \"\"), (\"Dragutin Petkovic\", \"\")],\n",
    "# \"CSC 898 Master's Thesis\": [(\"Shahrukh Humayoun\", \"\"), (\"Hao Yue\", \"\"), (\"Qun Wang\", \"\"), (\"Dragutin Petkovic\", \"\")]\n",
    "}"
   ]
  },
  {
   "cell_type": "code",
   "execution_count": 4,
   "metadata": {},
   "outputs": [
    {
     "name": "stdout",
     "output_type": "stream",
     "text": [
      "https://www.ratemyprofessors.com/\n",
      "https://www.reddit.com/r/college/comments/txizxv/what_do_you_make_of_rate_my_professor/\n",
      "https://www.reddit.com/r/Professors/comments/16hptyx/getting_info_removed_from_rate_my_professor/\n",
      "https://www.reddit.com/r/AskReddit/comments/83bxma/teachers_of_reddit_do_you_look_at_your_rate_my/\n",
      "https://www.reddit.com/r/Professors/comments/8ppuqn/do_you_check_your_scores_on_ratemyprofessor_does/\n",
      "https://www.reddit.com/r/CollegeRant/comments/13medkq/rate_my_professor_is_horrendous/\n",
      "https://www.quora.com/What-does-it-indicate-when-someone-has-no-reviews-on-ratemyprofessor-com\n",
      "https://www.quora.com/How-should-professors-deal-with-lies-on-RateMyProfessors-As-a-new-faculty-member-some-comments-really-hurt-I-can-easily-tell-they-come-from-failing-students-I-m-thinking-this-might-be-because-I-try-to-be-as-fair-as\n",
      "https://www.quora.com/How-do-I-find-out-who-left-bad-reviews-on-my-RateMyProfessors\n",
      "https://www.quora.com/Do-professors-check-their-reviews-on-ratemyprofessor\n"
     ]
    }
   ],
   "source": [
    "from googlesearch import search\n",
    "\n",
    "query = \"Rate My Professor Some Teacher's Name\"\n",
    "num_results = 10\n",
    "\n",
    "for url in search(query, stop = 10):\n",
    "    print(url)"
   ]
  },
  {
   "cell_type": "code",
   "execution_count": 2,
   "metadata": {},
   "outputs": [
    {
     "name": "stdout",
     "output_type": "stream",
     "text": [
      "[TextBlock(text=\"As an AI language model, I don't have feelings or emotions. I don't experience good or bad days like humans do. My purpose is to assist and provide information to the best of my abilities based on the data I have been trained on. How may I help you today?\", type='text')]\n"
     ]
    }
   ],
   "source": [
    "import anthropic\n",
    "import os\n",
    "api_key=os.environ.get(\"ANTHROPIC_API_KEY\")\n",
    "client = anthropic.Anthropic(\n",
    "    api_key=os.environ.get(\"ANTHROPIC_API_KEY\"),\n",
    ")\n",
    "\n",
    "message = client.messages.create(\n",
    "    model=\"claude-3-opus-20240229\",\n",
    "    max_tokens=1000,\n",
    "    temperature=0.0,\n",
    "    system=\"You are happy and sassy.\",\n",
    "    messages=[\n",
    "        {\"role\": \"user\", \"content\": \"How are you today?\"}\n",
    "    ]\n",
    ")\n",
    "\n",
    "print(message.content)\n"
   ]
  },
  {
   "cell_type": "code",
   "execution_count": null,
   "metadata": {},
   "outputs": [],
   "source": [
    "import requests\n",
    "from bs4 import BeautifulSoup\n",
    "\n",
    "def get_visible_text(url):\n",
    "    try:\n",
    "        # Fetch the webpage\n",
    "        response = requests.get(url)\n",
    "        response.raise_for_status()  # Ensure the request was successful\n",
    "        \n",
    "        # Parse the webpage with Beautiful Soup\n",
    "        soup = BeautifulSoup(response.text, 'html.parser')\n",
    "        \n",
    "        # Extract visible text from the webpage\n",
    "        for script in soup([\"script\", \"style\"]):  # Remove scripts and styles\n",
    "            script.extract()\n",
    "        text = soup.get_text()\n",
    "\n",
    "        # Clean up the text\n",
    "        lines = (line.strip() for line in text.splitlines())\n",
    "        chunks = (phrase.strip() for line in lines for phrase in line.split(\"  \"))\n",
    "        text = '\\n'.join(chunk for chunk in chunks if chunk)\n",
    "        return text\n",
    "    except requests.RequestException as e:\n",
    "        return str(e)  # Handle any exceptions that might occur\n",
    "\n",
    "url = 'https://www.google.com'\n",
    "webpage_text = get_visible_text(url)\n",
    "print(webpage_text)\n"
   ]
  }
 ],
 "metadata": {
  "kernelspec": {
   "display_name": "Python 3",
   "language": "python",
   "name": "python3"
  },
  "language_info": {
   "codemirror_mode": {
    "name": "ipython",
    "version": 3
   },
   "file_extension": ".py",
   "mimetype": "text/x-python",
   "name": "python",
   "nbconvert_exporter": "python",
   "pygments_lexer": "ipython3",
   "version": "3.10.12"
  }
 },
 "nbformat": 4,
 "nbformat_minor": 2
}
